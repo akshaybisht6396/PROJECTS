{
 "cells": [
  {
   "cell_type": "code",
   "execution_count": null,
   "id": "08e90080-a977-46b4-b8ba-d727c7afce8f",
   "metadata": {},
   "outputs": [],
   "source": []
  },
  {
   "cell_type": "code",
   "execution_count": 1,
   "id": "52c4f5e1-6d7d-4811-a1ed-42c5a1c6f8c6",
   "metadata": {},
   "outputs": [
    {
     "data": {
      "text/plain": [
       "'akjhlkasdfh lkasdhfkahsdfkl'"
      ]
     },
     "execution_count": 1,
     "metadata": {},
     "output_type": "execute_result"
    }
   ],
   "source": [
    "\"\"\"akjhlkasdfh lkasdhfkahsdfkl\"\"\"\n"
   ]
  },
  {
   "cell_type": "code",
   "execution_count": 3,
   "id": "8a7526c5-4f95-497c-86d4-2cbe755d9cbe",
   "metadata": {},
   "outputs": [
    {
     "data": {
      "text/plain": [
       "'flakshgflahjsla'"
      ]
     },
     "execution_count": 3,
     "metadata": {},
     "output_type": "execute_result"
    }
   ],
   "source": [
    "'flakshgflahjsla'"
   ]
  },
  {
   "cell_type": "code",
   "execution_count": 6,
   "id": "1b0c25a1-0476-42a8-b975-44ea17d5c900",
   "metadata": {},
   "outputs": [
    {
     "data": {
      "text/plain": [
       "'asdfsdf'"
      ]
     },
     "execution_count": 6,
     "metadata": {},
     "output_type": "execute_result"
    }
   ],
   "source": [
    "'''asdfsdf'''"
   ]
  },
  {
   "cell_type": "code",
   "execution_count": 5,
   "id": "f822fb8b-d0d0-4ce7-8c12-16356b4a999f",
   "metadata": {},
   "outputs": [
    {
     "name": "stdout",
     "output_type": "stream",
     "text": [
      "asdfds\n"
     ]
    },
    {
     "data": {
      "text/plain": [
       "'asdfds'"
      ]
     },
     "execution_count": 5,
     "metadata": {},
     "output_type": "execute_result"
    }
   ],
   "source": [
    "my_string = \"asdfds\"\n",
    "print(my_string)\n",
    "type(my_string)\n",
    "my_string.upper()\n",
    "my_string.lower()"
   ]
  },
  {
   "cell_type": "code",
   "execution_count": 7,
   "id": "859d7206-f89a-48bf-b128-40cf5c0bef66",
   "metadata": {},
   "outputs": [
    {
     "data": {
      "text/plain": [
       "'ASDFDS'"
      ]
     },
     "execution_count": 7,
     "metadata": {},
     "output_type": "execute_result"
    }
   ],
   "source": [
    "my_string.upper()"
   ]
  },
  {
   "cell_type": "code",
   "execution_count": 9,
   "id": "ac58182e-c40a-45f7-8171-328fd0885507",
   "metadata": {},
   "outputs": [
    {
     "data": {
      "text/plain": [
       "'asafas'"
      ]
     },
     "execution_count": 9,
     "metadata": {},
     "output_type": "execute_result"
    }
   ],
   "source": [
    "my_string.replace(\"d\",\"a\")"
   ]
  },
  {
   "cell_type": "code",
   "execution_count": 11,
   "id": "ca5d0315-c456-497d-a993-9290e205d390",
   "metadata": {},
   "outputs": [
    {
     "name": "stdout",
     "output_type": "stream",
     "text": [
      "Hi Class\n"
     ]
    }
   ],
   "source": [
    "str1 = \"Hi\"\n",
    "str2 = \"Class\"\n",
    "\n",
    "print(str1+\" \"+ str2)"
   ]
  },
  {
   "cell_type": "code",
   "execution_count": 13,
   "id": "912b9c36-bc27-4d63-a5c4-1f8865fa2412",
   "metadata": {},
   "outputs": [
    {
     "data": {
      "text/plain": [
       "10"
      ]
     },
     "execution_count": 13,
     "metadata": {},
     "output_type": "execute_result"
    }
   ],
   "source": [
    "str3 = \"0123456789\"\n",
    "len(str3)"
   ]
  },
  {
   "cell_type": "code",
   "execution_count": 15,
   "id": "b5e7f9ca-8aa8-4da5-a174-0dcb48c27eaa",
   "metadata": {},
   "outputs": [
    {
     "data": {
      "text/plain": [
       "'0'"
      ]
     },
     "execution_count": 15,
     "metadata": {},
     "output_type": "execute_result"
    }
   ],
   "source": [
    "str3[0]"
   ]
  },
  {
   "cell_type": "code",
   "execution_count": 17,
   "id": "c6960210-90c1-4921-9f5e-db910cdfff70",
   "metadata": {},
   "outputs": [
    {
     "data": {
      "text/plain": [
       "'012'"
      ]
     },
     "execution_count": 17,
     "metadata": {},
     "output_type": "execute_result"
    }
   ],
   "source": [
    "str3[0:3]"
   ]
  },
  {
   "cell_type": "code",
   "execution_count": 19,
   "id": "7b40825a-1722-4ce3-9b7f-d9a91e2ee03a",
   "metadata": {},
   "outputs": [
    {
     "data": {
      "text/plain": [
       "'01234'"
      ]
     },
     "execution_count": 19,
     "metadata": {},
     "output_type": "execute_result"
    }
   ],
   "source": [
    "str3[0:5]"
   ]
  },
  {
   "cell_type": "code",
   "execution_count": 20,
   "id": "0ca0f86f-e5b1-4e55-8601-157f86d50b4e",
   "metadata": {},
   "outputs": [
    {
     "name": "stdout",
     "output_type": "stream",
     "text": [
      "False\n"
     ]
    }
   ],
   "source": [
    "str4 = \"apple\"\n",
    "str5 = \"aanana\"\n",
    "print(str4 == str5)"
   ]
  },
  {
   "cell_type": "code",
   "execution_count": 23,
   "id": "c0afdf31-d3e6-475f-a82e-64ef87ead83a",
   "metadata": {},
   "outputs": [
    {
     "name": "stdout",
     "output_type": "stream",
     "text": [
      "False\n"
     ]
    }
   ],
   "source": [
    "print(str4 < str5)"
   ]
  },
  {
   "cell_type": "code",
   "execution_count": 69,
   "id": "31f03b7b-d6e8-4347-8c27-1404cfcb4ab8",
   "metadata": {},
   "outputs": [
    {
     "name": "stdout",
     "output_type": "stream",
     "text": [
      "hi hello\n"
     ]
    }
   ],
   "source": [
    "str = 'hi' \" \" \"hello\"\n",
    "print(str)\n"
   ]
  },
  {
   "cell_type": "code",
   "execution_count": 25,
   "id": "354d02a3-e55b-4a59-b916-9bb9bded71d7",
   "metadata": {},
   "outputs": [
    {
     "name": "stdout",
     "output_type": "stream",
     "text": [
      "http://localhost:8889/lab/tree/Untitled6.ipynb?\n"
     ]
    }
   ],
   "source": [
    "url = \"http://localhost:8889/lab/tree/Untitled6.ipynb?\"\n",
    "print(url)"
   ]
  },
  {
   "cell_type": "code",
   "execution_count": 27,
   "id": "f4323afa-746a-4aff-a6d4-3458608dffa1",
   "metadata": {},
   "outputs": [
    {
     "ename": "TypeError",
     "evalue": "%d format: a real number is required, not str",
     "output_type": "error",
     "traceback": [
      "\u001b[1;31m---------------------------------------------------------------------------\u001b[0m",
      "\u001b[1;31mTypeError\u001b[0m                                 Traceback (most recent call last)",
      "Cell \u001b[1;32mIn[27], line 3\u001b[0m\n\u001b[0;32m      1\u001b[0m name \u001b[38;5;241m=\u001b[39m \u001b[38;5;124m\"\u001b[39m\u001b[38;5;124mAlice\u001b[39m\u001b[38;5;124m\"\u001b[39m\n\u001b[0;32m      2\u001b[0m age \u001b[38;5;241m=\u001b[39m \u001b[38;5;124m\"\u001b[39m\u001b[38;5;124m20\u001b[39m\u001b[38;5;124m\"\u001b[39m\n\u001b[1;32m----> 3\u001b[0m \u001b[38;5;28mprint\u001b[39m((\u001b[38;5;124m\"\u001b[39m\u001b[38;5;124mMy name is \u001b[39m\u001b[38;5;132;01m%s\u001b[39;00m\u001b[38;5;124m and I am \u001b[39m\u001b[38;5;132;01m%d\u001b[39;00m\u001b[38;5;124m years old\u001b[39m\u001b[38;5;124m\"\u001b[39m)\u001b[38;5;241m%\u001b[39m(name, age))\n",
      "\u001b[1;31mTypeError\u001b[0m: %d format: a real number is required, not str"
     ]
    }
   ],
   "source": [
    "name = \"Alice\"\n",
    "age = \"20\"\n",
    "print((\"My name is %s and I am %d years old\")%(name, age))"
   ]
  },
  {
   "cell_type": "code",
   "execution_count": 95,
   "id": "e70922e6-17bf-4693-92d1-fb0e173d7cb4",
   "metadata": {},
   "outputs": [
    {
     "ename": "TypeError",
     "evalue": "'str' object is not callable",
     "output_type": "error",
     "traceback": [
      "\u001b[1;31m---------------------------------------------------------------------------\u001b[0m",
      "\u001b[1;31mTypeError\u001b[0m                                 Traceback (most recent call last)",
      "Cell \u001b[1;32mIn[95], line 2\u001b[0m\n\u001b[0;32m      1\u001b[0m stringWithPlaceholder \u001b[38;5;241m=\u001b[39m \u001b[38;5;124m\"\u001b[39m\u001b[38;5;124mhi \u001b[39m\u001b[38;5;132;01m{}\u001b[39;00m\u001b[38;5;124m class\u001b[39m\u001b[38;5;132;01m{}\u001b[39;00m\u001b[38;5;124m\"\u001b[39m\n\u001b[1;32m----> 2\u001b[0m \u001b[38;5;28mprint\u001b[39m(stringWithPlaceholder\u001b[38;5;241m.\u001b[39mformat(name,str2))\n",
      "\u001b[1;31mTypeError\u001b[0m: 'str' object is not callable"
     ]
    }
   ],
   "source": [
    "stringWithPlaceholder = \"hi {} class{}\"\n",
    "print(stringWithPlaceholder.format(name,str2))"
   ]
  },
  {
   "cell_type": "code",
   "execution_count": null,
   "id": "8f73e497-8263-458f-8ea8-ee65d44a6712",
   "metadata": {},
   "outputs": [],
   "source": [
    "print()"
   ]
  },
  {
   "cell_type": "code",
   "execution_count": null,
   "id": "2818bd4e-578c-4493-9102-ec1802a219fc",
   "metadata": {},
   "outputs": [],
   "source": []
  }
 ],
 "metadata": {
  "kernelspec": {
   "display_name": "Python 3 (ipykernel)",
   "language": "python",
   "name": "python3"
  },
  "language_info": {
   "codemirror_mode": {
    "name": "ipython",
    "version": 3
   },
   "file_extension": ".py",
   "mimetype": "text/x-python",
   "name": "python",
   "nbconvert_exporter": "python",
   "pygments_lexer": "ipython3",
   "version": "3.12.4"
  }
 },
 "nbformat": 4,
 "nbformat_minor": 5
}
