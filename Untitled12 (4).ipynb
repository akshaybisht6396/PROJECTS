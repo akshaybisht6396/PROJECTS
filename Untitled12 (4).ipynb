{
 "cells": [
  {
   "cell_type": "code",
   "execution_count": 5,
   "id": "c0d91fec-2bfe-46fe-8dbd-448733e88bc5",
   "metadata": {},
   "outputs": [
    {
     "data": {
      "text/plain": [
       "['123@stu.upes.ac.in',\n",
       " '34323@stu.upes.ac.in',\n",
       " '3422@stu.upes.ac.in',\n",
       " '5322@stu.upes.ac.in']"
      ]
     },
     "execution_count": 5,
     "metadata": {},
     "output_type": "execute_result"
    }
   ],
   "source": [
    "sapids = [123,34323,3422,5322]\n",
    "def id2email(id):\n",
    "    return f\"{id}@stu.upes.ac.in\" #reutrn str(id ) + \"@stu.upes.ac.in\"\n",
    "\n",
    "emails=[]\n",
    "for id in sapids:\n",
    "    email = id2email(id)\n",
    "    emails.append(email)\n",
    "\n",
    "list_of_emails = emails\n",
    "list_of_emails"
   ]
  },
  {
   "cell_type": "code",
   "execution_count": 9,
   "id": "fea578de-b110-48d4-93aa-07aaf862a761",
   "metadata": {},
   "outputs": [
    {
     "data": {
      "text/plain": [
       "['123@stu.upes.ac.in',\n",
       " '34323@stu.upes.ac.in',\n",
       " '3422@stu.upes.ac.in',\n",
       " '5322@stu.upes.ac.in']"
      ]
     },
     "execution_count": 9,
     "metadata": {},
     "output_type": "execute_result"
    }
   ],
   "source": [
    "sapids = [123,34323,3422,5322]  #1st logic using map and functions\n",
    "def id2email(id):\n",
    "    return f\"{id}@stu.upes.ac.in\" #reutrn str(id ) + \"@stu.upes.ac.in\"\n",
    "\n",
    "\n",
    "\n",
    "list_of_emails = list(map(id2email,sapids))\n",
    "list_of_emails"
   ]
  },
  {
   "cell_type": "code",
   "execution_count": 13,
   "id": "a009d8c7-edc1-43c9-a568-8c6a6aca6ce8",
   "metadata": {},
   "outputs": [
    {
     "data": {
      "text/plain": [
       "['123@stu.upes.ac.in',\n",
       " '34323@stu.upes.ac.in',\n",
       " '3422@stu.upes.ac.in',\n",
       " '5322@stu.upes.ac.in']"
      ]
     },
     "execution_count": 13,
     "metadata": {},
     "output_type": "execute_result"
    }
   ],
   "source": [
    "sapids = [123,34323,3422,5322]\n",
    "list_of_emails = list(map(lambda id: str(id) + \"@stu.upes.ac.in\", sapids))\n",
    "list_of_emails"
   ]
  },
  {
   "cell_type": "code",
   "execution_count": 22,
   "id": "361720c5-c7b4-4d15-ac33-11e6a5da3402",
   "metadata": {},
   "outputs": [
    {
     "name": "stdout",
     "output_type": "stream",
     "text": [
      "value fo 10\n"
     ]
    }
   ],
   "source": [
    "#print(f\"value fo {a}\")\n",
    "a = 10\n",
    "try: \n",
    "    print(f\"value fo {a}\")\n",
    "except:\n",
    "    print(f\"value of a does not exist\")"
   ]
  },
  {
   "cell_type": "code",
   "execution_count": 24,
   "id": "4457a959-74db-4251-9e91-fab81875b3b4",
   "metadata": {},
   "outputs": [
    {
     "name": "stdout",
     "output_type": "stream",
     "text": [
      "assertion is true\n"
     ]
    }
   ],
   "source": [
    "a = 10\n",
    "b = 20\n",
    "assert a < b\n",
    "print(\"assertion is true\")"
   ]
  },
  {
   "cell_type": "code",
   "execution_count": 33,
   "id": "c8a17036-55e5-472f-b1e8-2b76447033bf",
   "metadata": {},
   "outputs": [
    {
     "name": "stdout",
     "output_type": "stream",
     "text": [
      "assertion is true\n"
     ]
    }
   ],
   "source": [
    "a = 10\n",
    "b = 20\n",
    "try:\n",
    "    assert a < b\n",
    "    print(\"assertion is true\")\n",
    "\n",
    "except:\n",
    "    print(\"assertion is false\")\n",
    "      "
   ]
  },
  {
   "cell_type": "code",
   "execution_count": 45,
   "id": "6ac7e42a-0eed-4c5e-8724-91435e57d9aa",
   "metadata": {
    "scrolled": true
   },
   "outputs": [
    {
     "name": "stdin",
     "output_type": "stream",
     "text": [
      "enter number 1 12\n",
      "enter number 2 23\n"
     ]
    },
    {
     "name": "stdout",
     "output_type": "stream",
     "text": [
      "division of 12/23 is 0.5217391304347826\n"
     ]
    }
   ],
   "source": [
    "#write a program that takes two values from user and returns division of first from second \n",
    "\n",
    "\n",
    "a= int(input(\"enter number 1\"))\n",
    "b= int(input(\"enter number 2\"))\n",
    "\n",
    "def div(a,b):\n",
    "    return a/b\n",
    "\n",
    "print(f\"division of {a}/{b} is {div(a,b)}\")"
   ]
  },
  {
   "cell_type": "code",
   "execution_count": 49,
   "id": "9ec3537b-b825-4f17-b0ce-1f5ff74b0d2a",
   "metadata": {},
   "outputs": [
    {
     "name": "stdin",
     "output_type": "stream",
     "text": [
      "enter number 1 24\n",
      "enter number 2 12\n"
     ]
    },
    {
     "name": "stdout",
     "output_type": "stream",
     "text": [
      "division of 24/12 is 2.0\n"
     ]
    }
   ],
   "source": [
    "#write a program that takes two values from user and returns division of first from second \n",
    "\n",
    "\n",
    "a= int(input(\"enter number 1\"))\n",
    "b= int(input(\"enter number 2\"))\n",
    "\n",
    "def div(a,b):\n",
    "    assert b!= 0\n",
    "    return a/b\n",
    "\n",
    "print(f\"division of {a}/{b} is {div(a,b)}\")"
   ]
  },
  {
   "cell_type": "code",
   "execution_count": 11,
   "id": "a4b20258-db6c-4036-abb1-dbf50df4aa1b",
   "metadata": {},
   "outputs": [],
   "source": [
    "import tkinter as tk\n",
    "root = tk.Tk()\n",
    "root.title(\"file organizer\")\n",
    "root.geometry(\"400x250\")\n",
    "root.mainloop()"
   ]
  },
  {
   "cell_type": "code",
   "execution_count": 13,
   "id": "99287196-23a9-4814-82b8-98152b6535d6",
   "metadata": {},
   "outputs": [
    {
     "name": "stdout",
     "output_type": "stream",
     "text": [
      "User input: ishita'\n"
     ]
    }
   ],
   "source": [
    "\n",
    "import tkinter as tk\n",
    "root = tk.Tk()\n",
    "root.title(\"file organizer\")\n",
    "root.geometry(\"400x250\")\n",
    "\n",
    "def show_input():\n",
    "    user_input = entry.get()\n",
    "    print(\"User input:\", user_input)\n",
    "\n",
    "label = tk.Label(root, text = \"laber text content\")\n",
    "label.pack(pady=10)\n",
    "entry = tk.Entry(root,width= 70)\n",
    "entry.pack(pady = 5)\n",
    "button = tk.Button(root, text= \"Submit\", command = show_input)\n",
    "button.pack(pady =10)\n",
    "root.mainloop()"
   ]
  },
  {
   "cell_type": "code",
   "execution_count": null,
   "id": "1dfe3399-a12d-42e5-9e70-6f0e4aede2f8",
   "metadata": {},
   "outputs": [],
   "source": [
    "#design a file organizer gui  mention your name date copyright "
   ]
  }
 ],
 "metadata": {
  "kernelspec": {
   "display_name": "Python 3 (ipykernel)",
   "language": "python",
   "name": "python3"
  },
  "language_info": {
   "codemirror_mode": {
    "name": "ipython",
    "version": 3
   },
   "file_extension": ".py",
   "mimetype": "text/x-python",
   "name": "python",
   "nbconvert_exporter": "python",
   "pygments_lexer": "ipython3",
   "version": "3.12.4"
  }
 },
 "nbformat": 4,
 "nbformat_minor": 5
}
