{
 "cells": [
  {
   "cell_type": "code",
   "execution_count": null,
   "metadata": {},
   "outputs": [],
   "source": [
    "import requests\n",
    "def download_file(url, file_name):\n",
    "    # Send a GET request to the provided URL\n",
    "    response = requests.get(url)\n",
    "    \n",
    "    # Check if the request was successful (status code 200)\n",
    "    if response.status_code == 200:\n",
    "        # Open a local file in binary write mode and save the content\n",
    "        with open(file_name, 'wb') as file:\n",
    "            file.write(response.content)\n",
    "        print(f\"File '{file_name}' downloaded successfully.\")\n",
    "    else:\n",
    "        print(f\"Failed to download file. Status code: {response.status_code}\")\n",
    "if __name__ == \"_main_\":\n",
    "\n",
    "    url = \"https://github.com/upessocs/B1B2/blob/main/fileOrganizerGui/Organizer.zip\"\n",
    "    file_name = \"Organizer.zip\"\n",
    "    \n",
    "    download_file(url,file_name)"
   ]
  }
 ],
 "metadata": {
  "language_info": {
   "name": "python"
  }
 },
 "nbformat": 4,
 "nbformat_minor": 2
}
