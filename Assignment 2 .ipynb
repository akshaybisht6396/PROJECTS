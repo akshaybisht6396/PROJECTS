{
 "cells": [
  {
   "cell_type": "code",
   "execution_count": 1,
   "id": "9af6f546-4582-469e-b096-e05ea69b11da",
   "metadata": {},
   "outputs": [
    {
     "name": "stdout",
     "output_type": "stream",
     "text": [
      "Hello, ujjwal!\n",
      "Hi, ishita!\n"
     ]
    }
   ],
   "source": [
    "#write a function  greet that takes two arguments: name (a string) and greeting\n",
    "# (a string with a default value of \"Hello\"). The function should return a greeting message\n",
    "\n",
    "\n",
    "def greet(name ,greeting=\"Hello\"):\n",
    "    return f\"{greeting}, {name}!\"\n",
    "\n",
    "print(greet(\"ujjwal\"))\n",
    "print(greet(\"ishita\",\"Hi\"))\n",
    "\n"
   ]
  },
  {
   "cell_type": "code",
   "execution_count": 19,
   "id": "eaf571b2-f60c-44bb-936d-76854bff0fb2",
   "metadata": {},
   "outputs": [
    {
     "name": "stdout",
     "output_type": "stream",
     "text": [
      "Name: Ujjwal , Age: 18, City: Almora\n"
     ]
    }
   ],
   "source": [
    "#create a function create_profile that takes arguments for name, age, and city as named \n",
    "#arguments . The function should return a string like \"Name: Alice , Age: 25, City: New York\".\n",
    "#Ensure that the age argument has a default value of 18\n",
    "\n",
    "\n",
    "def create_profile(*,name, age =18, city):\n",
    "    return f\"Name: {name} , Age: {age}, City: {city}\"\n",
    "\n",
    "print(create_profile(name=\"Ujjwal\", city=\"Almora\"))\n",
    "\n",
    "\n",
    "\n"
   ]
  },
  {
   "cell_type": "markdown",
   "id": "06d73735-115d-4331-ac16-40517986b458",
   "metadata": {},
   "source": [
    "# write a function sum_numbers that takes any number of positional arguments \n",
    "# (args and keyword arguments (*kwargs)).It should return the sum of all *args if they are numbers\n",
    "# Return a dictionary of all keyword arguments\n",
    "\n",
    "\n"
   ]
  },
  {
   "cell_type": "code",
   "execution_count": 27,
   "id": "e5f03fa4-20e7-4b82-8299-f1e95c8a847e",
   "metadata": {},
   "outputs": [
    {
     "name": "stdout",
     "output_type": "stream",
     "text": [
      "(88, {'x': 45, 'y': 'five'})\n"
     ]
    }
   ],
   "source": [
    "def sum_numbers(*args,**kwargs):\n",
    "    total = sum(arg for arg in args if isinstance(arg,(int,float)))\n",
    "    return total , kwargs\n",
    "\n",
    "print(sum_numbers(20,45,23, x = 45, y = \"five\"))"
   ]
  },
  {
   "cell_type": "markdown",
   "id": "cc2a1c29-097b-432d-a513-525f907327af",
   "metadata": {},
   "source": [
    "# Q -4  Write a function that uses map and a lambda to return a list where each element is squared"
   ]
  },
  {
   "cell_type": "code",
   "execution_count": 35,
   "id": "0f92a9ef-a46f-4cf2-b3c8-3d9b4bcea7b1",
   "metadata": {},
   "outputs": [
    {
     "name": "stdout",
     "output_type": "stream",
     "text": [
      "[16, 9, 16, 529]\n"
     ]
    }
   ],
   "source": [
    "def sq(num):\n",
    "    return list(map(lambda  x: x**2 , num))\n",
    "\n",
    "print(sq([4,3,4,23]))"
   ]
  },
  {
   "cell_type": "markdown",
   "id": "8e1b0aa9-dd6e-43f8-9573-d871783adb7c",
   "metadata": {},
   "source": [
    "# Q-5 Write a function that filters out all odd numbers from a list using filter and a lambda and a lamda function"
   ]
  },
  {
   "cell_type": "code",
   "execution_count": 41,
   "id": "f158b4b7-7a3e-49b5-8ebd-6973ac623d0b",
   "metadata": {},
   "outputs": [
    {
     "name": "stdout",
     "output_type": "stream",
     "text": [
      "[2, 4, 332, 2]\n"
     ]
    }
   ],
   "source": [
    "def filterodd(num):\n",
    "    return list(filter(lambda x: x%2 == 0 , num))\n",
    "\n",
    "print(filterodd([2,4,53,332,33,2]))"
   ]
  },
  {
   "cell_type": "markdown",
   "id": "19e61cf6-6430-469a-8569-668a6737e87b",
   "metadata": {},
   "source": [
    "# Q - 6 create a list comprehension that takes a list of numbers and return a list of their squares."
   ]
  },
  {
   "cell_type": "code",
   "execution_count": 67,
   "id": "a717c72c-9e6c-4a7f-a761-a347bbe3eb81",
   "metadata": {},
   "outputs": [
    {
     "name": "stdout",
     "output_type": "stream",
     "text": [
      "[0, 1, 4, 9, 16]\n",
      "[1, 4, 9, 16, 25]\n"
     ]
    }
   ],
   "source": [
    "sqrelements = [ x**2 for x in range (5) ]\n",
    "print(sqrelements)\n",
    "\n",
    "# 2nd method\n",
    "def square_elements(num):\n",
    "    return [x**2 for x in num]\n",
    "print(square_elements([1, 2, 3, 4, 5]))\n"
   ]
  },
  {
   "cell_type": "markdown",
   "id": "b2e47744-fe5d-48f9-9bfb-2384b8342f2a",
   "metadata": {},
   "source": [
    "# q-7 use a list comprehension to create a list of even numbers from 1 to 20 "
   ]
  },
  {
   "cell_type": "code",
   "execution_count": 74,
   "id": "3c06a823-d67d-44db-bd52-7751ded844a3",
   "metadata": {},
   "outputs": [
    {
     "name": "stdout",
     "output_type": "stream",
     "text": [
      "[2, 4, 6, 8, 10, 12, 14, 16, 18, 20]\n"
     ]
    }
   ],
   "source": [
    "sqrelements = [ x for x in range (1,21) if x % 2 ==0]\n",
    "print(sqrelements)\n"
   ]
  },
  {
   "cell_type": "markdown",
   "id": "d7745453-c452-4708-b02d-1d51dd542459",
   "metadata": {},
   "source": [
    "# q - 8 write a function file_operations that creates a directory named \"test_folder\" using os.makedirs() . Then, pause the execution for 3 seconds using time.sleep() , and finally delete the directory using os.rmdir().\n"
   ]
  },
  {
   "cell_type": "code",
   "execution_count": 82,
   "id": "f936cede-e4c2-45c7-b2c8-5d966458858c",
   "metadata": {},
   "outputs": [
    {
     "name": "stdout",
     "output_type": "stream",
     "text": [
      "Directory 'test_folder' created.\n",
      "pauses For 3 seconds \n",
      "Directory 'test_folder' deleted.\n"
     ]
    }
   ],
   "source": [
    "import os\n",
    "import time\n",
    "\n",
    "def file_operations():\n",
    "    \n",
    "    os.makedirs(\"test_folder\", exist_ok=True)      # Create a directory named \"test_folder\"\n",
    "    print(\"Directory 'test_folder' created.\")\n",
    "    \n",
    "    \n",
    "    time.sleep(3)\n",
    "    \n",
    "    # Delete the directory\n",
    "    os.rmdir(\"test_folder\")\n",
    "    print(\"pauses For 3 seconds \")\n",
    "    print(\"Directory 'test_folder' deleted.\")\n",
    "\n",
    "file_operations()\n"
   ]
  },
  {
   "cell_type": "markdown",
   "id": "79285ae9-d6c5-4403-980c-861bac1e6630",
   "metadata": {},
   "source": [
    "# q - 9 write a python script that imports only sleep from the time module and renames it to pause Use it to pause execution for 2 seconds and print \"paused execution\""
   ]
  },
  {
   "cell_type": "code",
   "execution_count": 87,
   "id": "caaad54f-e0b8-4dda-ae16-0a953675c06e",
   "metadata": {},
   "outputs": [
    {
     "name": "stdout",
     "output_type": "stream",
     "text": [
      "Waiting for 2 seconds\n",
      "Paused execution...\n"
     ]
    }
   ],
   "source": [
    "from time import sleep as pause\n",
    "print(\"Waiting for 2 seconds\")\n",
    "# Pause execution for 2 seconds\n",
    "pause(2)\n",
    "\n",
    "# Print a message\n",
    "print(\"Paused execution...\")\n"
   ]
  },
  {
   "cell_type": "markdown",
   "id": "fc388e63-ce63-48a1-a059-b68b575702f6",
   "metadata": {},
   "source": [
    "# q -10 write a recursive function flatten_list that can flatten a nested list of any depth using *args and **kwargs"
   ]
  },
  {
   "cell_type": "code",
   "execution_count": 90,
   "id": "d9826289-1c32-47a1-9460-9b04fb08d1e5",
   "metadata": {},
   "outputs": [
    {
     "name": "stdout",
     "output_type": "stream",
     "text": [
      "[1, 2, 3, 4, 5, 6, 7, 8]\n"
     ]
    }
   ],
   "source": [
    "def flatten_list(*args):\n",
    "    flat_list = []\n",
    "    \n",
    "    for item in args:\n",
    "        if isinstance(item, list):\n",
    "            flat_list.extend(flatten_list(*item))  # Recursively flatten the nested list\n",
    "        else:\n",
    "            flat_list.append(item)  # Add non-list items directly\n",
    "    \n",
    "    return flat_list\n",
    "\n",
    "nested_list = [1, [2, [3, 4], 5], 6, [7, 8]]\n",
    "flattened = flatten_list(*nested_list)\n",
    "print(flattened)\n"
   ]
  },
  {
   "cell_type": "code",
   "execution_count": 92,
   "id": "eac644fc-4541-4c88-a84a-3d0b8ee2f4c7",
   "metadata": {},
   "outputs": [],
   "source": [
    "#using kwargs"
   ]
  },
  {
   "cell_type": "code",
   "execution_count": 94,
   "id": "51e4430f-cfe9-47c2-8f85-088dcd2a673b",
   "metadata": {},
   "outputs": [
    {
     "name": "stdout",
     "output_type": "stream",
     "text": [
      "[1, 2, 3, 4, 5, 6, 7, 8]\n"
     ]
    }
   ],
   "source": [
    "def flatten_list(nested_list, **kwargs):\n",
    "    flat_list = []\n",
    "    \n",
    "    for item in nested_list:\n",
    "        if isinstance(item, list):\n",
    "            # Recursively flatten the sublist\n",
    "            flat_list.extend(flatten_list(item, **kwargs))\n",
    "        else:\n",
    "            flat_list.append(item)\n",
    "    \n",
    "    return flat_list\n",
    "\n",
    "# Example usage\n",
    "nested = [1, [2, [3, 4], 5], 6, [7, 8]]\n",
    "flattened = flatten_list(nested)\n",
    "print(flattened)\n"
   ]
  },
  {
   "cell_type": "code",
   "execution_count": null,
   "id": "6d2a094a-7c15-4fc2-8ee1-ee219e924dc8",
   "metadata": {},
   "outputs": [],
   "source": []
  }
 ],
 "metadata": {
  "kernelspec": {
   "display_name": "Python 3 (ipykernel)",
   "language": "python",
   "name": "python3"
  },
  "language_info": {
   "codemirror_mode": {
    "name": "ipython",
    "version": 3
   },
   "file_extension": ".py",
   "mimetype": "text/x-python",
   "name": "python",
   "nbconvert_exporter": "python",
   "pygments_lexer": "ipython3",
   "version": "3.12.4"
  }
 },
 "nbformat": 4,
 "nbformat_minor": 5
}
