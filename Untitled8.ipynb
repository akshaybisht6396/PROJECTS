{
 "cells": [
  {
   "cell_type": "code",
   "execution_count": null,
   "id": "c1e8dfa4-5d94-4190-a9c6-aeea0cb9f80d",
   "metadata": {},
   "outputs": [],
   "source": [
    "list1 = [2,4,5,6,[1,3]]\n",
    "list2= list1\n",
    "showDetails(list1 , list2)\n",
    "list2[1] = 44\n",
    "list2[3][0] = 55\n",
    "showDetails(list1 ,list2)"
   ]
  },
  {
   "cell_type": "code",
   "execution_count": null,
   "id": "603a7a89-7882-4b9d-8adc-b24f6600c666",
   "metadata": {},
   "outputs": [],
   "source": []
  },
  {
   "cell_type": "code",
   "execution_count": 19,
   "id": "48e17312-b97b-46bb-b111-d685a88849b1",
   "metadata": {},
   "outputs": [
    {
     "name": "stdout",
     "output_type": "stream",
     "text": [
      "8\n"
     ]
    }
   ],
   "source": [
    "def add(a, b):\n",
    "\n",
    "    \"\"\"Returns the sum of two numbers.\"\"\"\n",
    "    return a + b                                           #Calling the function with arguments\n",
    "\n",
    "\n",
    "result = add(5, 3)\n",
    "print(result)  # Output: 8\n"
   ]
  },
  {
   "cell_type": "code",
   "execution_count": null,
   "id": "99f936a5-b29f-45e7-a967-35cf7e118011",
   "metadata": {},
   "outputs": [],
   "source": [
    "#write a program to add three numbers and return its value\n"
   ]
  },
  {
   "cell_type": "code",
   "execution_count": 21,
   "id": "21f86fd7-7bbf-489a-b400-ed33517e447c",
   "metadata": {},
   "outputs": [
    {
     "name": "stdout",
     "output_type": "stream",
     "text": [
      "16\n"
     ]
    }
   ],
   "source": [
    "def add(a, b,c):\n",
    "\n",
    "    \"\"\"Returns the sum of three numbers.\"\"\"\n",
    "    return a + b + c                                         #Calling the function with arguments\n",
    "\n",
    "\n",
    "result = add(5, 3 ,8)\n",
    "print(result)  \n"
   ]
  },
  {
   "cell_type": "code",
   "execution_count": 31,
   "id": "7584a127-3b75-47a7-a6a2-34ee8abbfeee",
   "metadata": {},
   "outputs": [
    {
     "name": "stdout",
     "output_type": "stream",
     "text": [
      "result is 33\n"
     ]
    }
   ],
   "source": [
    "def add(a, b,c,d,e,f):\n",
    "\n",
    "    \"\"\"Returns the sum of three numbers.\"\"\"\n",
    "    return a + b + c  + d +e +f                                       #Calling the function with arguments\n",
    "\n",
    "\n",
    "result = add(5, 3 ,8,6,7,4)\n",
    "print( f\"result is {result }\")  \n"
   ]
  },
  {
   "cell_type": "code",
   "execution_count": 33,
   "id": "dc5fba9c-9bfd-49ab-bd64-c065b0f92e24",
   "metadata": {},
   "outputs": [],
   "source": [
    "def sum2(a , *args):\n",
    "    print(a)\n",
    "    print(args)\n",
    "    res = 0\n",
    "    return res"
   ]
  },
  {
   "cell_type": "code",
   "execution_count": 35,
   "id": "beca05a7-f765-44c7-83e3-974ae3f05121",
   "metadata": {},
   "outputs": [
    {
     "name": "stdout",
     "output_type": "stream",
     "text": [
      "1\n",
      "(2, 3, 4)\n"
     ]
    }
   ],
   "source": [
    "res = sum2(1,2,3,4)"
   ]
  },
  {
   "cell_type": "code",
   "execution_count": 41,
   "id": "008f6c23-2098-4e45-8d23-99f6463cb9ce",
   "metadata": {},
   "outputs": [],
   "source": [
    "def sum2(a , *args):\n",
    "    print(a)\n",
    "    print(args)\n",
    "    res = 0\n",
    "    for i in range (0, len(args)):\n",
    "        res = res +args[i]\n",
    "    return res"
   ]
  },
  {
   "cell_type": "code",
   "execution_count": 39,
   "id": "51e2ecf4-5339-4980-ba71-9d4e063041ab",
   "metadata": {},
   "outputs": [
    {
     "name": "stdout",
     "output_type": "stream",
     "text": [
      "1\n",
      "(2, 3, 4)\n"
     ]
    }
   ],
   "source": [
    "res = sum2(1,2,3,4)"
   ]
  },
  {
   "cell_type": "code",
   "execution_count": 45,
   "id": "91f6ea04-390b-4d89-b5a2-28b033bdcb6b",
   "metadata": {},
   "outputs": [],
   "source": [
    "dict1 = {\n",
    "    \"name\" : \"Raj\",\n",
    "    \"batch\" : \"B2\",\n",
    "    \"classtime\" : \"8:AM\"\n",
    "}"
   ]
  },
  {
   "cell_type": "code",
   "execution_count": 63,
   "id": "f67d5f6d-2231-4555-a929-bed9b4e2b45d",
   "metadata": {},
   "outputs": [
    {
     "name": "stdout",
     "output_type": "stream",
     "text": [
      "(1, 2, 3) {'a': 1, 'b': 2, 'c': 3}\n"
     ]
    }
   ],
   "source": [
    "def printDictionary(*args,**kwargs):\n",
    "    print(args,\n",
    "          kwargs)\n",
    "    \n",
    "printDictionary(1,2,3, a =1 , b =2 , c = 3)"
   ]
  },
  {
   "cell_type": "code",
   "execution_count": 68,
   "id": "423d295b-637c-4210-adf4-70e691df5b24",
   "metadata": {},
   "outputs": [
    {
     "name": "stdout",
     "output_type": "stream",
     "text": [
      "2 1\n"
     ]
    }
   ],
   "source": [
    "  def swap(a, b):\n",
    "      return b, a\n",
    "x, y = swap(1, 2)\n",
    "print(x, y)  # Output: 2 1\n",
    "  \n",
    "\n"
   ]
  },
  {
   "cell_type": "code",
   "execution_count": 70,
   "id": "4b0207df-680c-42b5-99c0-86cc48ace998",
   "metadata": {},
   "outputs": [
    {
     "ename": "NameError",
     "evalue": "name 'a' is not defined",
     "output_type": "error",
     "traceback": [
      "\u001b[1;31m---------------------------------------------------------------------------\u001b[0m",
      "\u001b[1;31mNameError\u001b[0m                                 Traceback (most recent call last)",
      "Cell \u001b[1;32mIn[70], line 1\u001b[0m\n\u001b[1;32m----> 1\u001b[0m \u001b[38;5;28mprint\u001b[39m(\u001b[38;5;28mid\u001b[39m(a))\n\u001b[0;32m      2\u001b[0m \u001b[38;5;28mprint\u001b[39m(\u001b[38;5;28mid\u001b[39m(b))\n\u001b[0;32m      3\u001b[0m \u001b[38;5;28mprint\u001b[39m(\u001b[38;5;28mid\u001b[39m(x))\n",
      "\u001b[1;31mNameError\u001b[0m: name 'a' is not defined"
     ]
    }
   ],
   "source": [
    "print(id(a))\n",
    "print(id(b))\n",
    "print(id(x))\n",
    "print(id(y))"
   ]
  },
  {
   "cell_type": "code",
   "execution_count": null,
   "id": "cb4fb259-9a41-410e-a1aa-a6711cf0d9ae",
   "metadata": {},
   "outputs": [],
   "source": []
  }
 ],
 "metadata": {
  "kernelspec": {
   "display_name": "Python 3 (ipykernel)",
   "language": "python",
   "name": "python3"
  },
  "language_info": {
   "codemirror_mode": {
    "name": "ipython",
    "version": 3
   },
   "file_extension": ".py",
   "mimetype": "text/x-python",
   "name": "python",
   "nbconvert_exporter": "python",
   "pygments_lexer": "ipython3",
   "version": "3.12.4"
  }
 },
 "nbformat": 4,
 "nbformat_minor": 5
}
