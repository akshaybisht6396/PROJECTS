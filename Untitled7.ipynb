{
 "cells": [
  {
   "cell_type": "code",
   "execution_count": null,
   "id": "08e90080-a977-46b4-b8ba-d727c7afce8f",
   "metadata": {},
   "outputs": [],
   "source": []
  },
  {
   "cell_type": "code",
   "execution_count": 1,
   "id": "52c4f5e1-6d7d-4811-a1ed-42c5a1c6f8c6",
   "metadata": {},
   "outputs": [
    {
     "data": {
      "text/plain": [
       "'akjhlkasdfh lkasdhfkahsdfkl'"
      ]
     },
     "execution_count": 1,
     "metadata": {},
     "output_type": "execute_result"
    }
   ],
   "source": [
    "\"\"\"akjhlkasdfh lkasdhfkahsdfkl\"\"\"\n"
   ]
  },
  {
   "cell_type": "code",
   "execution_count": 3,
   "id": "8a7526c5-4f95-497c-86d4-2cbe755d9cbe",
   "metadata": {},
   "outputs": [
    {
     "data": {
      "text/plain": [
       "'flakshgflahjsla'"
      ]
     },
     "execution_count": 3,
     "metadata": {},
     "output_type": "execute_result"
    }
   ],
   "source": [
    "'flakshgflahjsla'"
   ]
  },
  {
   "cell_type": "code",
   "execution_count": 6,
   "id": "1b0c25a1-0476-42a8-b975-44ea17d5c900",
   "metadata": {},
   "outputs": [
    {
     "data": {
      "text/plain": [
       "'asdfsdf'"
      ]
     },
     "execution_count": 6,
     "metadata": {},
     "output_type": "execute_result"
    }
   ],
   "source": [
    "'''asdfsdf'''"
   ]
  },
  {
   "cell_type": "code",
   "execution_count": 5,
   "id": "f822fb8b-d0d0-4ce7-8c12-16356b4a999f",
   "metadata": {},
   "outputs": [
    {
     "name": "stdout",
     "output_type": "stream",
     "text": [
      "asdfds\n"
     ]
    },
    {
     "data": {
      "text/plain": [
       "'asdfds'"
      ]
     },
     "execution_count": 5,
     "metadata": {},
     "output_type": "execute_result"
    }
   ],
   "source": [
    "my_string = \"asdfds\"\n",
    "print(my_string)\n",
    "type(my_string)\n",
    "my_string.upper()\n",
    "my_string.lower()"
   ]
  },
  {
   "cell_type": "code",
   "execution_count": 7,
   "id": "859d7206-f89a-48bf-b128-40cf5c0bef66",
   "metadata": {},
   "outputs": [
    {
     "data": {
      "text/plain": [
       "'ASDFDS'"
      ]
     },
     "execution_count": 7,
     "metadata": {},
     "output_type": "execute_result"
    }
   ],
   "source": [
    "my_string.upper()"
   ]
  },
  {
   "cell_type": "code",
   "execution_count": 9,
   "id": "ac58182e-c40a-45f7-8171-328fd0885507",
   "metadata": {},
   "outputs": [
    {
     "data": {
      "text/plain": [
       "'asafas'"
      ]
     },
     "execution_count": 9,
     "metadata": {},
     "output_type": "execute_result"
    }
   ],
   "source": [
    "my_string.replace(\"d\",\"a\")"
   ]
  },
  {
   "cell_type": "code",
   "execution_count": 13,
   "id": "ca5d0315-c456-497d-a993-9290e205d390",
   "metadata": {},
   "outputs": [
    {
     "name": "stdout",
     "output_type": "stream",
     "text": [
      "Hi Class\n"
     ]
    }
   ],
   "source": [
    "str1 = \"Hi\"\n",
    "str2 = \"Class\"\n",
    "\n",
    "print(str1+\" \"+ str2)"
   ]
  },
  {
   "cell_type": "code",
   "execution_count": 15,
   "id": "912b9c36-bc27-4d63-a5c4-1f8865fa2412",
   "metadata": {},
   "outputs": [
    {
     "data": {
      "text/plain": [
       "10"
      ]
     },
     "execution_count": 15,
     "metadata": {},
     "output_type": "execute_result"
    }
   ],
   "source": [
    "str3 = \"0123456789\"\n",
    "len(str3)"
   ]
  },
  {
   "cell_type": "code",
   "execution_count": 17,
   "id": "b5e7f9ca-8aa8-4da5-a174-0dcb48c27eaa",
   "metadata": {},
   "outputs": [
    {
     "data": {
      "text/plain": [
       "'0'"
      ]
     },
     "execution_count": 17,
     "metadata": {},
     "output_type": "execute_result"
    }
   ],
   "source": [
    "str3[0]"
   ]
  },
  {
   "cell_type": "code",
   "execution_count": 19,
   "id": "c6960210-90c1-4921-9f5e-db910cdfff70",
   "metadata": {},
   "outputs": [
    {
     "data": {
      "text/plain": [
       "'012'"
      ]
     },
     "execution_count": 19,
     "metadata": {},
     "output_type": "execute_result"
    }
   ],
   "source": [
    "str3[0:3]"
   ]
  },
  {
   "cell_type": "code",
   "execution_count": 21,
   "id": "7b40825a-1722-4ce3-9b7f-d9a91e2ee03a",
   "metadata": {},
   "outputs": [
    {
     "data": {
      "text/plain": [
       "'01234'"
      ]
     },
     "execution_count": 21,
     "metadata": {},
     "output_type": "execute_result"
    }
   ],
   "source": [
    "str3[0:5]"
   ]
  },
  {
   "cell_type": "code",
   "execution_count": 23,
   "id": "0ca0f86f-e5b1-4e55-8601-157f86d50b4e",
   "metadata": {},
   "outputs": [
    {
     "name": "stdout",
     "output_type": "stream",
     "text": [
      "False\n"
     ]
    }
   ],
   "source": [
    "str4 = \"apple\"\n",
    "str5 = \"aanana\"\n",
    "print(str4 == str5)"
   ]
  },
  {
   "cell_type": "code",
   "execution_count": 25,
   "id": "c0afdf31-d3e6-475f-a82e-64ef87ead83a",
   "metadata": {},
   "outputs": [
    {
     "name": "stdout",
     "output_type": "stream",
     "text": [
      "False\n"
     ]
    }
   ],
   "source": [
    "print(str4 < str5)"
   ]
  },
  {
   "cell_type": "code",
   "execution_count": 27,
   "id": "31f03b7b-d6e8-4347-8c27-1404cfcb4ab8",
   "metadata": {},
   "outputs": [
    {
     "name": "stdout",
     "output_type": "stream",
     "text": [
      "hi hello\n"
     ]
    }
   ],
   "source": [
    "str = 'hi' \" \" \"hello\"\n",
    "print(str)\n"
   ]
  },
  {
   "cell_type": "code",
   "execution_count": 29,
   "id": "354d02a3-e55b-4a59-b916-9bb9bded71d7",
   "metadata": {},
   "outputs": [
    {
     "name": "stdout",
     "output_type": "stream",
     "text": [
      "http://localhost:8889/lab/tree/Untitled6.ipynb?\n"
     ]
    }
   ],
   "source": [
    "url = \"http://localhost:8889/lab/tree/Untitled6.ipynb?\"\n",
    "print(url)"
   ]
  },
  {
   "cell_type": "code",
   "execution_count": 31,
   "id": "f4323afa-746a-4aff-a6d4-3458608dffa1",
   "metadata": {},
   "outputs": [
    {
     "name": "stdout",
     "output_type": "stream",
     "text": [
      "My name is Alice and I am 20 years old\n"
     ]
    }
   ],
   "source": [
    "name = \"Alice\"\n",
    "age = 20\n",
    "print((\"My name is %s and I am %d years old\")%(name, age))"
   ]
  },
  {
   "cell_type": "code",
   "execution_count": 33,
   "id": "e70922e6-17bf-4693-92d1-fb0e173d7cb4",
   "metadata": {},
   "outputs": [
    {
     "name": "stdout",
     "output_type": "stream",
     "text": [
      "hi Alice classClass\n"
     ]
    }
   ],
   "source": [
    "stringWithPlaceholder = \"hi {} class{}\"\n",
    "print(stringWithPlaceholder.format(name,str2))"
   ]
  },
  {
   "cell_type": "code",
   "execution_count": 15,
   "id": "8f73e497-8263-458f-8ea8-ee65d44a6712",
   "metadata": {},
   "outputs": [
    {
     "name": "stdout",
     "output_type": "stream",
     "text": [
      "<class 'str'>\n",
      "2112306236080\n"
     ]
    }
   ],
   "source": [
    "str6 = \"hello world \"\n",
    "print(type(str6))\n",
    "print(id(str6))\n"
   ]
  },
  {
   "cell_type": "code",
   "execution_count": 33,
   "id": "2818bd4e-578c-4493-9102-ec1802a219fc",
   "metadata": {},
   "outputs": [
    {
     "name": "stdout",
     "output_type": "stream",
     "text": [
      "hi world \n"
     ]
    }
   ],
   "source": [
    " str6 = str6.replace(\"hello\",\"hi\")\n",
    "print(str6)"
   ]
  },
  {
   "cell_type": "code",
   "execution_count": 35,
   "id": "b1803777-3446-4086-bf45-32ad53c9d8fe",
   "metadata": {},
   "outputs": [
    {
     "name": "stdout",
     "output_type": "stream",
     "text": [
      "<class 'str'>\n"
     ]
    }
   ],
   "source": [
    "print(type(str6))"
   ]
  },
  {
   "cell_type": "code",
   "execution_count": 37,
   "id": "d19d647c-5401-4fc8-a259-9e162fb10e61",
   "metadata": {},
   "outputs": [
    {
     "name": "stdout",
     "output_type": "stream",
     "text": [
      "2112306247344\n"
     ]
    }
   ],
   "source": [
    "print(id(str6))"
   ]
  },
  {
   "cell_type": "code",
   "execution_count": 41,
   "id": "ae757bd7-ee79-46ce-8dcb-b009b210cf7e",
   "metadata": {},
   "outputs": [
    {
     "data": {
      "text/plain": [
       "('0123456789', 10)"
      ]
     },
     "execution_count": 41,
     "metadata": {},
     "output_type": "execute_result"
    }
   ],
   "source": [
    "str7 =\"0123456789\"\n",
    "str7, len(str7)"
   ]
  },
  {
   "cell_type": "code",
   "execution_count": 43,
   "id": "667b2f78-132d-46da-82d9-36429c784e13",
   "metadata": {},
   "outputs": [
    {
     "data": {
      "text/plain": [
       "'01234'"
      ]
     },
     "execution_count": 43,
     "metadata": {},
     "output_type": "execute_result"
    }
   ],
   "source": [
    "str7[0:5]"
   ]
  },
  {
   "cell_type": "code",
   "execution_count": 45,
   "id": "9690e738-6ef7-4ab5-92bd-936e858c2881",
   "metadata": {},
   "outputs": [
    {
     "data": {
      "text/plain": [
       "5"
      ]
     },
     "execution_count": 45,
     "metadata": {},
     "output_type": "execute_result"
    }
   ],
   "source": [
    "int(10/2)"
   ]
  },
  {
   "cell_type": "code",
   "execution_count": 47,
   "id": "3bef76f6-554e-47e1-b0a0-1997b4e04174",
   "metadata": {},
   "outputs": [
    {
     "data": {
      "text/plain": [
       "5.0"
      ]
     },
     "execution_count": 47,
     "metadata": {},
     "output_type": "execute_result"
    }
   ],
   "source": [
    "float(int(10/2))"
   ]
  },
  {
   "cell_type": "code",
   "execution_count": 51,
   "id": "37cb728c-a74f-4c4c-a06b-a7c40f0eba13",
   "metadata": {},
   "outputs": [
    {
     "data": {
      "text/plain": [
       "True"
      ]
     },
     "execution_count": 51,
     "metadata": {},
     "output_type": "execute_result"
    }
   ],
   "source": [
    "bool(float(int(10/2)))"
   ]
  },
  {
   "cell_type": "code",
   "execution_count": 57,
   "id": "d526d6de-1ddd-49ed-a393-85dd1621eb0a",
   "metadata": {},
   "outputs": [],
   "source": [
    "a = 1\n",
    "b = 1\n"
   ]
  },
  {
   "cell_type": "code",
   "execution_count": 59,
   "id": "d3ccbd5f-dfd2-4d54-984b-6143428dcfbd",
   "metadata": {},
   "outputs": [
    {
     "data": {
      "text/plain": [
       "True"
      ]
     },
     "execution_count": 59,
     "metadata": {},
     "output_type": "execute_result"
    }
   ],
   "source": [
    "a>=b"
   ]
  },
  {
   "cell_type": "code",
   "execution_count": 71,
   "id": "fc7a128c-3a8f-449d-9c77-698c692afde1",
   "metadata": {},
   "outputs": [
    {
     "name": "stdout",
     "output_type": "stream",
     "text": [
      "10000.1\n"
     ]
    }
   ],
   "source": [
    " c = 100001/10\n",
    "print(c)\n"
   ]
  },
  {
   "cell_type": "code",
   "execution_count": 73,
   "id": "072c27dd-4829-41ba-aebb-3b95e2be84a2",
   "metadata": {},
   "outputs": [
    {
     "data": {
      "text/plain": [
       "10000.1"
      ]
     },
     "execution_count": 73,
     "metadata": {},
     "output_type": "execute_result"
    }
   ],
   "source": [
    "round(a,3)"
   ]
  },
  {
   "cell_type": "code",
   "execution_count": 75,
   "id": "6f6dc532-b68c-4e2b-8f43-4c5feb4ea9f6",
   "metadata": {},
   "outputs": [],
   "source": [
    "d = [1,2,3,4]"
   ]
  },
  {
   "cell_type": "code",
   "execution_count": 77,
   "id": "e6095e5a-bfed-4493-af96-b97f983f6006",
   "metadata": {},
   "outputs": [
    {
     "data": {
      "text/plain": [
       "10"
      ]
     },
     "execution_count": 77,
     "metadata": {},
     "output_type": "execute_result"
    }
   ],
   "source": [
    "sum(d)"
   ]
  },
  {
   "cell_type": "code",
   "execution_count": 79,
   "id": "af3001bc-cdae-4852-89e2-618f81af2eff",
   "metadata": {},
   "outputs": [
    {
     "name": "stdin",
     "output_type": "stream",
     "text": [
      "Enter your name: ujjwal\n"
     ]
    }
   ],
   "source": [
    "name = input(\"Enter your name:\")"
   ]
  },
  {
   "cell_type": "code",
   "execution_count": 81,
   "id": "07d8129e-c812-4807-aea8-26d380e981b5",
   "metadata": {},
   "outputs": [
    {
     "data": {
      "text/plain": [
       "'ujjwal'"
      ]
     },
     "execution_count": 81,
     "metadata": {},
     "output_type": "execute_result"
    }
   ],
   "source": [
    "name\n"
   ]
  },
  {
   "cell_type": "code",
   "execution_count": 90,
   "id": "12133130-1e74-4b7e-907b-852596ddff8a",
   "metadata": {},
   "outputs": [],
   "source": [
    "import sys\n"
   ]
  },
  {
   "cell_type": "code",
   "execution_count": 92,
   "id": "ccc72c1e-e3f5-413a-80fc-958b1fc57308",
   "metadata": {},
   "outputs": [
    {
     "name": "stdout",
     "output_type": "stream",
     "text": [
      "size of x: 28 bytes\n"
     ]
    }
   ],
   "source": [
    "x = 42\n",
    "size = sys.getsizeof(x)\n",
    "print(f\"size of x: {size} bytes\")"
   ]
  },
  {
   "cell_type": "code",
   "execution_count": 115,
   "id": "9e6555e5-9046-4d73-8079-5d24934cfd11",
   "metadata": {},
   "outputs": [],
   "source": [
    "def myprint(testvar):\n",
    "    print(f\"value is {(testvar)}\")\n",
    "    print(f\"id is {id(testvar)}\") \n",
    "    print(f\"type is {type(testvar)}\")\n",
    "    print(f\" size of a  is {sys.getsizeof(testvar)}\")"
   ]
  },
  {
   "cell_type": "markdown",
   "id": "1bf58363-613d-49d4-87d3-163badda44b3",
   "metadata": {},
   "source": [
    "myprint(d) "
   ]
  },
  {
   "cell_type": "code",
   "execution_count": 117,
   "id": "08a8889a-e447-4b89-93cc-f105da23d8f4",
   "metadata": {},
   "outputs": [
    {
     "name": "stdout",
     "output_type": "stream",
     "text": [
      "value is 10000.1\n",
      "id is 2112286634448\n",
      "type is <class 'float'>\n",
      " size of a  is 24\n"
     ]
    }
   ],
   "source": [
    "myprint(a)"
   ]
  },
  {
   "cell_type": "code",
   "execution_count": null,
   "id": "6e7cbb1e-8ed0-4a5b-83b8-6aef59f824c2",
   "metadata": {},
   "outputs": [],
   "source": []
  }
 ],
 "metadata": {
  "kernelspec": {
   "display_name": "Python 3 (ipykernel)",
   "language": "python",
   "name": "python3"
  },
  "language_info": {
   "codemirror_mode": {
    "name": "ipython",
    "version": 3
   },
   "file_extension": ".py",
   "mimetype": "text/x-python",
   "name": "python",
   "nbconvert_exporter": "python",
   "pygments_lexer": "ipython3",
   "version": "3.12.4"
  }
 },
 "nbformat": 4,
 "nbformat_minor": 5
}
