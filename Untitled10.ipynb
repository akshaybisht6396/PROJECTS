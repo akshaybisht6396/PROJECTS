{
 "cells": [
  {
   "cell_type": "code",
   "execution_count": 8,
   "id": "1495e772-a2d8-4334-bf22-1e7938d4ca17",
   "metadata": {},
   "outputs": [
    {
     "name": "stdout",
     "output_type": "stream",
     "text": [
      "Cumulative Sum: 317\n",
      "Average: 52.833333333333336\n",
      "Minimum Value: 22\n",
      "Maximum Value: 83\n"
     ]
    }
   ],
   "source": [
    "#write a function that takes one input argument  as an input and return its sum cummilative sum average minimum and maxmimum value\n",
    "#implement this function using for loop . Define function documentation using dot string and show its uses\n",
    "\n",
    "\n",
    "\n",
    "\n",
    "def calculate(numbers):\n",
    "    \n",
    "    \n",
    "    if not numbers:\n",
    "        raise ValueError(\"The input list is empty.\")\n",
    "    \n",
    "    cumulative_sum = 0\n",
    "    min_value = numbers[0]\n",
    "    max_value = numbers[0]\n",
    "    \n",
    "    for num in numbers:\n",
    "        cumulative_sum += num\n",
    "        if num < min_value:\n",
    "            min_value = num\n",
    "        if num > max_value:\n",
    "            max_value = num\n",
    "    \n",
    "    average = cumulative_sum / len(numbers)\n",
    "    \n",
    "    return cumulative_sum, average, min_value, max_value\n",
    "\n",
    "\n",
    "numbers = [33, 52, 73, 22, 83, 54]\n",
    "result = calculate(numbers)\n",
    "print(\"Cumulative Sum:\", result[0])\n",
    "print(\"Average:\", result[1])\n",
    "print(\"Minimum Value:\", result[2])\n",
    "print(\"Maximum Value:\", result[3])\n"
   ]
  },
  {
   "cell_type": "markdown",
   "id": "9d8c6fcf-0fb8-4e7a-957c-0c77fde1eed6",
   "metadata": {},
   "source": [
    "**write a program to take n inputs from user and store them as a list \n",
    "case 1 n is defined by user\n",
    "case 2 user can inter number as per their requirements"
   ]
  },
  {
   "cell_type": "code",
   "execution_count": null,
   "id": "86fec8d4-f189-4928-b3e6-85004681115b",
   "metadata": {},
   "outputs": [],
   "source": []
  },
  {
   "cell_type": "code",
   "execution_count": null,
   "id": "f707ee52-898d-4060-93f5-4354fde3c8d2",
   "metadata": {},
   "outputs": [],
   "source": []
  }
 ],
 "metadata": {
  "kernelspec": {
   "display_name": "Python 3 (ipykernel)",
   "language": "python",
   "name": "python3"
  },
  "language_info": {
   "codemirror_mode": {
    "name": "ipython",
    "version": 3
   },
   "file_extension": ".py",
   "mimetype": "text/x-python",
   "name": "python",
   "nbconvert_exporter": "python",
   "pygments_lexer": "ipython3",
   "version": "3.12.4"
  }
 },
 "nbformat": 4,
 "nbformat_minor": 5
}
