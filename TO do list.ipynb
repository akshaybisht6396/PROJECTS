{
 "cells": [
  {
   "cell_type": "markdown",
   "id": "79500184-2f40-4e60-aea9-b1196c27d14c",
   "metadata": {},
   "source": [
    "TO do list application"
   ]
  },
  {
   "cell_type": "code",
   "execution_count": null,
   "id": "8470b8cb-1865-4512-a4bb-7c9921729b3a",
   "metadata": {},
   "outputs": [],
   "source": [
    "\n",
    "\n",
    "\n",
    "\n",
    "import tkinter as tk\n",
    "from tkinter import messagebox\n",
    "\n",
    "# Create the main application window\n",
    "def create_app():\n",
    "    # Function to add a task\n",
    "    def add_task():\n",
    "        task = task_entry.get().strip()\n",
    "        if task == \"\":\n",
    "            messagebox.showwarning(\"Input Error\", \"Please enter a task!\")\n",
    "        else:\n",
    "            task_listbox.insert(tk.END, task)\n",
    "            task_entry.delete(0, tk.END)\n",
    "\n",
    "    # Function to remove the selected task\n",
    "    def remove_task():\n",
    "        try:\n",
    "            selected_task_index = task_listbox.curselection()[0]\n",
    "            task_listbox.delete(selected_task_index)\n",
    "        except IndexError:\n",
    "            messagebox.showwarning(\"Selection Error\", \"Please select a task to remove!\")\n",
    "\n",
    "    # Initialize the window\n",
    "    window = tk.Tk()\n",
    "    window.title(\"To-Do List\")\n",
    "\n",
    "    # Input field and Add button\n",
    "    task_entry = tk.Entry(window, width=40)\n",
    "    task_entry.pack(pady=10)\n",
    "\n",
    "    add_button = tk.Button(window, text=\"Add Task\", width=15, command=add_task)\n",
    "    add_button.pack()\n",
    "\n",
    "    # Listbox to display tasks\n",
    "    task_listbox = tk.Listbox(window, width=50, height=15, selectmode=tk.SINGLE)\n",
    "    task_listbox.pack(pady=10)\n",
    "\n",
    "    # Remove button\n",
    "    remove_button = tk.Button(window, text=\"Remove Task\", width=15, command=remove_task)\n",
    "    remove_button.pack(pady=5)\n",
    "\n",
    "    # Run the Tkinter event loop\n",
    "    window.mainloop()\n",
    "\n",
    "if __name__ == \"__main__\":\n",
    "    create_app()\n"
   ]
  },
  {
   "cell_type": "code",
   "execution_count": null,
   "id": "39bbea9a-92bf-4be5-be57-e84105824d7d",
   "metadata": {},
   "outputs": [],
   "source": []
  }
 ],
 "metadata": {
  "kernelspec": {
   "display_name": "Python 3 (ipykernel)",
   "language": "python",
   "name": "python3"
  },
  "language_info": {
   "codemirror_mode": {
    "name": "ipython",
    "version": 3
   },
   "file_extension": ".py",
   "mimetype": "text/x-python",
   "name": "python",
   "nbconvert_exporter": "python",
   "pygments_lexer": "ipython3",
   "version": "3.12.4"
  }
 },
 "nbformat": 4,
 "nbformat_minor": 5
}
